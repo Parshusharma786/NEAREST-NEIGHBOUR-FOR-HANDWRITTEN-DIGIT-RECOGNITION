{
 "cells": [
  {
   "cell_type": "code",
   "execution_count": 84,
   "id": "3c7c9e86-c310-4e79-a388-b86ab60babde",
   "metadata": {},
   "outputs": [],
   "source": [
    "import numpy as np \n",
    "import matplotlib.pyplot as plt \n",
    "import time"
   ]
  },
  {
   "cell_type": "markdown",
   "id": "2f5cd6f7-6591-4165-b2c2-96114fdd4594",
   "metadata": {},
   "source": [
    "Load the training set"
   ]
  },
  {
   "cell_type": "code",
   "execution_count": 87,
   "id": "bc548437-5469-481e-977e-5349fb0e41e4",
   "metadata": {},
   "outputs": [],
   "source": [
    "train_data = np.load('train_data.npy') \n",
    "train_labels = np.load('train_labels.npy')"
   ]
  },
  {
   "cell_type": "raw",
   "id": "ef59653b-d653-4ef9-ac8a-5558fcea3cb1",
   "metadata": {},
   "source": [
    "Load the testing set"
   ]
  },
  {
   "cell_type": "code",
   "execution_count": 89,
   "id": "c8298f25-25a8-4d8c-8b27-76613169a890",
   "metadata": {},
   "outputs": [],
   "source": [
    "test_data = np.load('test_data.npy') \n",
    "test_labels = np.load('test_labels.npy')"
   ]
  },
  {
   "cell_type": "markdown",
   "id": "b2ff89fc-175c-41b8-a7ef-4ec62a28d01b",
   "metadata": {},
   "source": [
    "Print out data dimensions"
   ]
  },
  {
   "cell_type": "code",
   "execution_count": 92,
   "id": "36706cb0-d94d-406b-8a40-295470dd7453",
   "metadata": {},
   "outputs": [
    {
     "name": "stdout",
     "output_type": "stream",
     "text": [
      "Training dataset dimensions:  (7500, 784)\n",
      "Number of training labels:  7500\n",
      "Testing dataset dimensions:  (1000, 784)\n",
      "Number of testing labels:  1000\n"
     ]
    }
   ],
   "source": [
    "print(\"Training dataset dimensions: \", np.shape(train_data)) \n",
    "print(\"Number of training labels: \", len(train_labels)) \n",
    "print(\"Testing dataset dimensions: \", np.shape(test_data)) \n",
    "print(\"Number of testing labels: \", len(test_labels))"
   ]
  },
  {
   "cell_type": "code",
   "execution_count": 94,
   "id": "feabee5d-6c44-4f11-b43a-224528e8dd53",
   "metadata": {},
   "outputs": [
    {
     "name": "stdout",
     "output_type": "stream",
     "text": [
      "Training set distribution:\n",
      "{0: 750, 1: 750, 2: 750, 3: 750, 4: 750, 5: 750, 6: 750, 7: 750, 8: 750, 9: 749}\n"
     ]
    }
   ],
   "source": [
    "## Compute the number of examples of each digit\n",
    "train_digits, train_counts = np.unique(train_labels[1:], return_counts = True)\n",
    "print(\"Training set distribution:\")\n",
    "print(dict(zip(train_digits, train_counts)))"
   ]
  },
  {
   "cell_type": "markdown",
   "id": "c02d5951-de0c-4874-97fe-d55a1de71cad",
   "metadata": {},
   "source": [
    "Visualizing the Train Data"
   ]
  },
  {
   "cell_type": "code",
   "execution_count": 97,
   "id": "9ab412fc-f032-48c6-9ed7-f47f76c09372",
   "metadata": {},
   "outputs": [
    {
     "data": {
      "image/png": "[encoded data removed]",
      "text/plain": [
       "<Figure size 640x480 with 1 Axes>"
      ]
     },
     "metadata": {},
     "output_type": "display_data"
    },
    {
     "name": "stdout",
     "output_type": "stream",
     "text": [
      "Label 6\n"
     ]
    }
   ],
   "source": [
    "## Define a function that displays a digit given its vector representation\n",
    "def show_digit(x):\n",
    "    plt.axis(\"off\")\n",
    "    x = np.asarray(list(map(int, x)))\n",
    "    plt.imshow(x.reshape((28,28)), cmap = plt.cm.gray)\n",
    "    plt.show()\n",
    "    return\n",
    "\n",
    "## Define a function that takes an index into a particular data set (\"train\" or \"test\") and displays that image.\n",
    "def vis_image(index, dataset=\"train\"):\n",
    "    if (dataset=='train'):\n",
    "        show_digit(train_data[index,])\n",
    "        label = train_labels[index]\n",
    "        print(\"Label \"+ str(label))\n",
    "    else:\n",
    "        show_digit(test_data[index,])\n",
    "        #label = test_labels[index]\n",
    "    #print(\"Label \"+ str(label))\n",
    "    return\n",
    "\n",
    "## View the first data point in the training set\n",
    "vis_image(56, \"train\")"
   ]
  },
  {
   "cell_type": "code",
   "execution_count": 99,
   "id": "4ab8ac94-3f7e-4618-ac36-27983f7bb83a",
   "metadata": {},
   "outputs": [
    {
     "name": "stdout",
     "output_type": "stream",
     "text": [
      "Distance from 6 to 2:  7094737.0\n"
     ]
    }
   ],
   "source": [
    "##computes squared euclidean distance between two vectors\n",
    "def squared_dist(x, y):\n",
    "    x = np.asarray(list(map(float, x)))\n",
    "    y = np.asarray(list(map(float, y)))\n",
    "    return np.sum(np.square(x-y))\n",
    "\n",
    "## Compute distance between a six and a two in our training set\n",
    "print (\"Distance from 6 to 2: \", squared_dist(train_data[266,],train_data[22,]))"
   ]
  },
  {
   "cell_type": "markdown",
   "id": "3ac1c7dd-7884-41ff-a689-59192426720a",
   "metadata": {},
   "source": [
    "Computing nearest neighbours"
   ]
  },
  {
   "cell_type": "code",
   "execution_count": 102,
   "id": "1dec3f1d-ce1e-4c14-a24d-6bf359c5fd5d",
   "metadata": {},
   "outputs": [
    {
     "name": "stdout",
     "output_type": "stream",
     "text": [
      "A sample case:\n",
      "NN classification:  2\n",
      "The test image: \n"
     ]
    },
    {
     "data": {
      "image/png": "[encoded data removed]",
      "text/plain": [
       "<Figure size 640x480 with 1 Axes>"
      ]
     },
     "metadata": {},
     "output_type": "display_data"
    },
    {
     "name": "stdout",
     "output_type": "stream",
     "text": [
      "The corresponding nearest neighbour image: \n"
     ]
    },
    {
     "data": {
      "image/png": "[encoded data removed]",
      "text/plain": [
       "<Figure size 640x480 with 1 Axes>"
      ]
     },
     "metadata": {},
     "output_type": "display_data"
    },
    {
     "name": "stdout",
     "output_type": "stream",
     "text": [
      "Label 2\n"
     ]
    }
   ],
   "source": [
    "## Takes a vector x and returns the index of its nearest neighbour in train_data\n",
    "def find_NN(x):\n",
    "    #compute distances from x to every row in train_data\n",
    "    distances = [squared_dist(x, train_data[i,]) for i in range(len(train_labels))]\n",
    "    #Get the index of the smallest distance\n",
    "    return np.argmin(distances)\n",
    "\n",
    "## Takes a vector x and returns the class of its nearest neighbour in train_data\n",
    "def NN_classifier(x):\n",
    "    #Get the index of the nearest neighbour\n",
    "    index = find_NN(x)\n",
    "    # Return its class\n",
    "    return train_labels[index]\n",
    "\n",
    "## A sample case\n",
    "print (\"A sample case:\")\n",
    "print (\"NN classification: \", NN_classifier(test_data[39,]))\n",
    "print (\"The test image: \")\n",
    "vis_image(39, \"test\")\n",
    "\n",
    "print (\"The corresponding nearest neighbour image: \")\n",
    "vis_image(find_NN(test_data[39,]), \"train\")"
   ]
  },
  {
   "cell_type": "markdown",
   "id": "01809573-666e-45ff-8628-e61b1fda4019",
   "metadata": {},
   "source": [
    "Fastest nearest neighbour methods"
   ]
  },
  {
   "cell_type": "code",
   "execution_count": 105,
   "id": "464ff299-b447-4b7d-ba4a-756383bdbb30",
   "metadata": {},
   "outputs": [
    {
     "name": "stdout",
     "output_type": "stream",
     "text": [
      "Classification time (seconds):  17.54998469352722\n"
     ]
    }
   ],
   "source": [
    "## Predict on each test data point (and time it!)\n",
    "t_before = time.time()\n",
    "test_predictions = [NN_classifier(test_data[i,]) for i in range(10)]\n",
    "t_after = time.time()\n",
    "\n",
    "## Compute the error\n",
    "#err_positions = np.not_equal(test_predictions, test_labels)\n",
    "#error = float(np.sum(err_positions))/len(test_labels)\n",
    "\n",
    "#print(\"Error of nearest neighbor classifier: \", error)\n",
    "print(\"Classification time (seconds): \", t_after - t_before)"
   ]
  },
  {
   "cell_type": "code",
   "execution_count": 107,
   "id": "03c3bce3-bafa-4a14-80e7-115b48d4c17d",
   "metadata": {},
   "outputs": [
    {
     "name": "stdout",
     "output_type": "stream",
     "text": [
      "Time to build data structure (seconds):  0.7390508651733398\n",
      "Time to classify test set (seconds):  6.338969945907593\n",
      "Ball tree produces same predictions as above?  False\n"
     ]
    }
   ],
   "source": [
    "#6. Faster nearest neighbor methods from sklearn.neighbors \n",
    "from sklearn.neighbors import BallTree \n",
    "# Build nearest neighbor structure on training data \n",
    "t_before = time.time() \n",
    "ball_tree = BallTree(train_data) \n",
    "t_after = time.time() \n",
    "# Compute training time \n",
    "t_training = t_after - t_before \n",
    "print(\"Time to build data structure (seconds): \", t_training) \n",
    "# Get nearest neighbor predictions on testing data \n",
    "t_before = time.time() \n",
    "test_neighbors = np.squeeze(ball_tree.query(test_data, k=1, return_distance=False)) \n",
    "ball_tree_predictions = train_labels[test_neighbors] \n",
    "t_after = time.time() \n",
    "# Compute testing time \n",
    "t_testing = t_after - t_before \n",
    "print(\"Time to classify test set (seconds): \", t_testing) \n",
    "# Verify that the predictions are the same \n",
    "print(\"Ball tree produces same predictions as above? \", np.array_equal(test_predictions, ball_tree_predictions)) \n",
    "from sklearn.neighbors import KDTree \n",
    "# Build nearest neighbor structure on training data \n",
    "t_before = time.time() \n",
    "kd_tree = KDTree(train_data) \n",
    "t_after = time.time() \n",
    "# Compute training time"
   ]
  },
  {
   "cell_type": "code",
   "execution_count": null,
   "id": "869bb176-00cc-4f31-ab98-9ea82f570202",
   "metadata": {},
   "outputs": [
    {
     "name": "stdout",
     "output_type": "stream",
     "text": [
      "Time to build data structure (seconds):  1.2611908912658691\n"
     ]
    }
   ],
   "source": [
    "t_training = t_after - t_before \n",
    "print(\"Time to build data structure (seconds): \", t_training) \n",
    "# Get nearest neighbor predictions on testing data \n",
    "t_before = time.time() \n",
    "test_neighbors = np.squeeze(kd_tree.query(test_data, k=1, return_distance=False)) \n",
    "kd_tree_predictions = train_labels[test_neighbors] \n",
    "t_after = time.time() \n",
    "# Compute testing time \n",
    "t_testing = t_after - t_before \n",
    "print(\"Time to classify test set (seconds): \", t_testing) \n",
    "# Verify that the predictions are the same \n",
    "print(\"KD tree produces same predictions as above? \", \n",
    "np.array_equal(test_predictions, kd_tree_predictions))"
   ]
  }
 ],
 "metadata": {
  "kernelspec": {
   "display_name": "Python 3 (ipykernel)",
   "language": "python",
   "name": "python3"
  },
  "language_info": {
   "codemirror_mode": {
    "name": "ipython",
    "version": 3
   },
   "file_extension": ".py",
   "mimetype": "text/x-python",
   "name": "python",
   "nbconvert_exporter": "python",
   "pygments_lexer": "ipython3",
   "version": "3.12.7"
  }
 },
 "nbformat": 4,
 "nbformat_minor": 5
}
